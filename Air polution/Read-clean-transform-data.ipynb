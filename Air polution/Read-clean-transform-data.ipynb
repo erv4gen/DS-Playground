{
 "cells": [
  {
   "cell_type": "code",
   "execution_count": 9,
   "metadata": {
    "collapsed": true
   },
   "outputs": [],
   "source": [
    "import pandas as pd\n",
    "import numpy as np\n",
    "from pdb import set_trace\n",
    "import mysql.connector"
   ]
  },
  {
   "cell_type": "code",
   "execution_count": 10,
   "metadata": {
    "collapsed": true
   },
   "outputs": [],
   "source": [
    "#work information\n",
    "Energy_filepath= 'Energy Indicators.xls'\n",
    "wb_filepath='world_bank.csv'\n",
    "sci_filepath ='scimagojr-3.xlsx'"
   ]
  },
  {
   "cell_type": "code",
   "execution_count": 11,
   "metadata": {
    "collapsed": true
   },
   "outputs": [],
   "source": [
    "#open datasets\n",
    "energy = pd.read_excel(Energy_filepath)\n",
    "GDP = pd.read_csv(wb_filepath,skiprows=4)\n",
    "ScimEn = pd.read_excel(sci_filepath)"
   ]
  },
  {
   "cell_type": "code",
   "execution_count": 12,
   "metadata": {
    "collapsed": true
   },
   "outputs": [],
   "source": [
    "#work with first file - energy\n",
    "#Renaming the following list of countries to modern names \n",
    "#Change ... to NaN\n",
    "energy = (energy[16:243]\n",
    ".drop(energy.columns[[0, 1]], axis=1)\n",
    ".rename(columns={'Environmental Indicators: Energy': 'Country',\n",
    "                 'Unnamed: 3':'Energy Supply',\n",
    "                 'Unnamed: 4' : 'Energy Supply per Capita',\n",
    "                 'Unnamed: 5':'% Renewable'})\n",
    "          .set_index('Country')\n",
    "          .replace('...',np.nan)\n",
    "      )\n",
    "\n",
    "#change energy measure form Petawatt to gigawatt\n",
    "energy['Energy Supply']*= 1000000\n",
    "\n",
    "\n",
    "#change rows\n",
    "rows_to_Change = {\"Republic of Korea\": \"South Korea\",\n",
    "                  \"United States of America\": \"United States\",\n",
    "                  \"United Kingdom of Great Britain and Northern Ireland\": \"United Kingdom\",\n",
    "                  \"China, Hong Kong Special Administrative Region\": \"Hong Kong\"}\n",
    "#cleaning the names of rows. delete a spesial symbols.\n",
    "energy = energy.reset_index() \n",
    "energy['Country'] = (energy['Country'].apply(lambda x: x.split('(')[0].rstrip(' ').replace(r\"\\d+\",''))\n",
    "    .apply(lambda a: \"\".join([x for x in a if any([x.isalpha(),(x==' ')])]))\n",
    "                     )\n",
    "energy.replace({\"Country\": rows_to_Change},inplace = True)\n"
   ]
  },
  {
   "cell_type": "raw",
   "metadata": {},
   "source": [
    "working with second file"
   ]
  },
  {
   "cell_type": "code",
   "execution_count": 13,
   "metadata": {
    "collapsed": true
   },
   "outputs": [],
   "source": [
    "#work with second file - GDP\n",
    "#change rows names and clead data.\n",
    "rows_to_Change = {'Korea, Rep.': \"South Korea\", \n",
    "                  \"Iran, Islamic Rep.\": \"Iran\",\n",
    "                  \"Hong Kong SAR, China\": \"Hong Kong\"\n",
    "                 }\n",
    "#leave only last 10 yeas 2006 - 2016\n",
    "GDP = (GDP.replace({'Country Name': rows_to_Change})\n",
    "       .rename(columns={'Country Name': 'Country'})\n",
    "       .drop(GDP.columns[1:-10],axis=1))"
   ]
  },
  {
   "cell_type": "code",
   "execution_count": 15,
   "metadata": {
    "collapsed": true
   },
   "outputs": [],
   "source": [
    "#joining 3 datasets together\n",
    "df = ScimEn.merge(energy,on='Country').merge(GDP, on='Country').set_index('Country')\n",
    "len_of_df = len(energy), len(GDP), len(ScimEn), len(df)\n",
    "#sorting values\n",
    "df.sort_values(by=\"Rank\",inplace=True)\n",
    "#return top15 by Rank\n",
    "Top15 = df[:15]"
   ]
  },
  {
   "cell_type": "raw",
   "metadata": {},
   "source": [
    "write to database"
   ]
  },
  {
   "cell_type": "code",
   "execution_count": 16,
   "metadata": {
    "collapsed": true
   },
   "outputs": [],
   "source": [
    "energy.to_csv('struct_energy.csv')\n",
    "GDP.to_csv('GDP.csv')\n",
    "ScimEn.to_csv('ScimEn.csv')\n",
    "Top15.to_csv('TOP15_air_pol.csv')"
   ]
  }
 ],
 "metadata": {
  "kernelspec": {
   "display_name": "Python 3",
   "language": "python",
   "name": "python3"
  },
  "language_info": {
   "codemirror_mode": {
    "name": "ipython",
    "version": 3
   },
   "file_extension": ".py",
   "mimetype": "text/x-python",
   "name": "python",
   "nbconvert_exporter": "python",
   "pygments_lexer": "ipython3",
   "version": "3.6.3"
  }
 },
 "nbformat": 4,
 "nbformat_minor": 2
}
