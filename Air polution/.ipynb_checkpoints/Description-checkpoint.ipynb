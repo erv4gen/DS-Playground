{
 "cells": [
  {
   "cell_type": "raw",
   "metadata": {},
   "source": [
    "Resourses:"
   ]
  },
  {
   "cell_type": "raw",
   "metadata": {},
   "source": [
    "1) Environment Statistics:\n",
    "\"http://unstats.un.org/unsd/environment/excel_file_tables/2013/Energy%20Indicators.xls\"\n",
    "2) Worldbank GDP indicator\n",
    "\"https://data.worldbank.org/indicator/NY.GDP.MKTP.CD\"\n",
    "3) The SCImago Journal & Country Rank \n",
    "\"http://www.scimagojr.com/countryrank.php?category=2102\""
   ]
  },
  {
   "cell_type": "code",
   "execution_count": null,
   "metadata": {
    "collapsed": true
   },
   "outputs": [],
   "source": []
  }
 ],
 "metadata": {
  "kernelspec": {
   "display_name": "Python 3",
   "language": "python",
   "name": "python3"
  },
  "language_info": {
   "codemirror_mode": {
    "name": "ipython",
    "version": 3
   },
   "file_extension": ".py",
   "mimetype": "text/x-python",
   "name": "python",
   "nbconvert_exporter": "python",
   "pygments_lexer": "ipython3",
   "version": "3.6.3"
  }
 },
 "nbformat": 4,
 "nbformat_minor": 2
}
