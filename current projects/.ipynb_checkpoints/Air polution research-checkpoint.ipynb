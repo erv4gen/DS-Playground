{
 "cells": [
  {
   "cell_type": "code",
   "execution_count": 1,
   "metadata": {
    "collapsed": true
   },
   "outputs": [],
   "source": [
    "import pandas as pd\n",
    "import numpy as np\n",
    "from pdb import set_trace\n"
   ]
  },
  {
   "cell_type": "markdown",
   "metadata": {},
   "source": [
    "### Resourses:"
   ]
  },
  {
   "cell_type": "raw",
   "metadata": {},
   "source": [
    "1) Environment Statistics:\n",
    "\"http://unstats.un.org/unsd/environment/excel_file_tables/2013/Energy%20Indicators.xls\"\n",
    "2) Worldbank GDP indicator\n",
    "\"https://data.worldbank.org/indicator/NY.GDP.MKTP.CD\"\n",
    "3) The SCImago Journal & Country Rank \n",
    "\"http://www.scimagojr.com/countryrank.php?category=2102\""
   ]
  },
  {
   "cell_type": "code",
   "execution_count": 2,
   "metadata": {
    "collapsed": true
   },
   "outputs": [],
   "source": [
    "#work information\n",
    "Energy_filepath= '../datafiles/Energy Indicators.xls'\n",
    "wb_filepath='../datafiles/world_bank.csv'\n",
    "sci_filepath ='../datafiles/scimagojr-3.xlsx'"
   ]
  },
  {
   "cell_type": "code",
   "execution_count": 3,
   "metadata": {
    "collapsed": true
   },
   "outputs": [],
   "source": [
    "#open datasets\n",
    "energy = pd.read_excel(Energy_filepath)\n",
    "GDP = pd.read_csv(wb_filepath,skiprows=4)\n",
    "ScimEn = pd.read_excel(sci_filepath)"
   ]
  },
  {
   "cell_type": "markdown",
   "metadata": {},
   "source": [
    "### Cleaning input data"
   ]
  },
  {
   "cell_type": "code",
   "execution_count": 4,
   "metadata": {
    "collapsed": true
   },
   "outputs": [],
   "source": [
    "#work with first file - energy\n",
    "#Renaming the following list of countries to modern names \n",
    "#Change ... to NaN\n",
    "energy = (energy[16:243]\n",
    ".drop(energy.columns[[0, 1]], axis=1)\n",
    ".rename(columns={'Environmental Indicators: Energy': 'Country',\n",
    "                 'Unnamed: 3':'Energy Supply',\n",
    "                 'Unnamed: 4' : 'Energy Supply per Capita',\n",
    "                 'Unnamed: 5':'% Renewable'})\n",
    "          .set_index('Country')\n",
    "          .replace('...',np.nan)\n",
    "      )\n",
    "\n",
    "#change energy measure form Petawatt to gigawatt\n",
    "energy['Energy Supply']*= 1000000\n",
    "\n",
    "\n",
    "#change rows\n",
    "rows_to_Change = {\"Republic of Korea\": \"South Korea\",\n",
    "                  \"United States of America\": \"United States\",\n",
    "                  \"United Kingdom of Great Britain and Northern Ireland\": \"United Kingdom\",\n",
    "                  \"China, Hong Kong Special Administrative Region\": \"Hong Kong\"}\n",
    "#cleaning the names of rows. delete a spesial symbols.\n",
    "energy = energy.reset_index() \n",
    "energy['Country'] = (energy['Country'].apply(lambda x: x.split('(')[0].rstrip(' ').replace(r\"\\d+\",''))\n",
    "    .apply(lambda a: \"\".join([x for x in a if any([x.isalpha(),(x==' ')])]))\n",
    "                     )\n",
    "energy.replace({\"Country\": rows_to_Change},inplace = True)\n"
   ]
  },
  {
   "cell_type": "code",
   "execution_count": 5,
   "metadata": {
    "collapsed": true
   },
   "outputs": [],
   "source": [
    "#work with second file - GDP\n",
    "#change rows names and clead data.\n",
    "rows_to_Change = {'Korea, Rep.': \"South Korea\", \n",
    "                  \"Iran, Islamic Rep.\": \"Iran\",\n",
    "                  \"Hong Kong SAR, China\": \"Hong Kong\"\n",
    "                 }\n",
    "#leave only last 10 yeas 2006 - 2016\n",
    "GDP = (GDP.replace({'Country Name': rows_to_Change})\n",
    "       .rename(columns={'Country Name': 'Country'})\n",
    "       .drop(GDP.columns[1:-10],axis=1))"
   ]
  },
  {
   "cell_type": "code",
   "execution_count": 6,
   "metadata": {
    "collapsed": true
   },
   "outputs": [],
   "source": [
    "#joining 3 datasets together\n",
    "df = ScimEn.merge(energy,on='Country').merge(GDP, on='Country').set_index('Country')\n",
    "len_of_df = len(energy), len(GDP), len(ScimEn), len(df)\n",
    "#sorting values\n",
    "df.sort_values(by=\"Rank\",inplace=True)"
   ]
  },
  {
   "cell_type": "code",
   "execution_count": 7,
   "metadata": {
    "collapsed": true
   },
   "outputs": [],
   "source": [
    "#return top15 by Rank\n",
    "Top15 = df[:15]"
   ]
  },
  {
   "cell_type": "markdown",
   "metadata": {},
   "source": [
    "### Calculations"
   ]
  },
  {
   "cell_type": "markdown",
   "metadata": {},
   "source": [
    "#### Create a new columns for:"
   ]
  },
  {
   "cell_type": "raw",
   "metadata": {},
   "source": [
    "1)The ratio of Self-Citations to Total Citations.\n",
    "2)Energy Supply/Energy Supply per capita\n",
    "3)Population\n",
    "4)Citable documents per capita\n",
    "5)HighRenew\n",
    "% Renewable value is at or above the median for all countries in the top 15, and a 0 if the country's % Renewable value is below the median.\n"
   ]
  },
  {
   "cell_type": "code",
   "execution_count": 8,
   "metadata": {},
   "outputs": [
    {
     "name": "stderr",
     "output_type": "stream",
     "text": [
      "/Users/vladimir/anaconda3/lib/python3.6/site-packages/ipykernel_launcher.py:2: SettingWithCopyWarning: \n",
      "A value is trying to be set on a copy of a slice from a DataFrame.\n",
      "Try using .loc[row_indexer,col_indexer] = value instead\n",
      "\n",
      "See the caveats in the documentation: http://pandas.pydata.org/pandas-docs/stable/indexing.html#indexing-view-versus-copy\n",
      "  \n",
      "/Users/vladimir/anaconda3/lib/python3.6/site-packages/ipykernel_launcher.py:4: SettingWithCopyWarning: \n",
      "A value is trying to be set on a copy of a slice from a DataFrame.\n",
      "Try using .loc[row_indexer,col_indexer] = value instead\n",
      "\n",
      "See the caveats in the documentation: http://pandas.pydata.org/pandas-docs/stable/indexing.html#indexing-view-versus-copy\n",
      "  after removing the cwd from sys.path.\n",
      "/Users/vladimir/anaconda3/lib/python3.6/site-packages/ipykernel_launcher.py:6: SettingWithCopyWarning: \n",
      "A value is trying to be set on a copy of a slice from a DataFrame.\n",
      "Try using .loc[row_indexer,col_indexer] = value instead\n",
      "\n",
      "See the caveats in the documentation: http://pandas.pydata.org/pandas-docs/stable/indexing.html#indexing-view-versus-copy\n",
      "  \n",
      "/Users/vladimir/anaconda3/lib/python3.6/site-packages/ipykernel_launcher.py:9: SettingWithCopyWarning: \n",
      "A value is trying to be set on a copy of a slice from a DataFrame.\n",
      "Try using .loc[row_indexer,col_indexer] = value instead\n",
      "\n",
      "See the caveats in the documentation: http://pandas.pydata.org/pandas-docs/stable/indexing.html#indexing-view-versus-copy\n",
      "  if __name__ == '__main__':\n"
     ]
    }
   ],
   "source": [
    "qw_column = 'Self-Citations/Total Citations'\n",
    "Top15[qw_column] = Top15['Self-citations']/ Top15['Citations']\n",
    "population = 'population'\n",
    "Top15[population] = (Top15['Energy Supply']/ (Top15['Energy Supply per Capita']))\n",
    "documentsPerPers = 'Citable documents per capita'\n",
    "Top15[documentsPerPers] = (Top15['Citable documents']/ (Top15[population]))\n",
    "new_col ='HighRenew'\n",
    "Top15[new_col] = ((Top15['% Renewable'] >= Top15['% Renewable'].median())\n",
    "                         .apply(lambda x: 1 if x else 0))"
   ]
  },
  {
   "cell_type": "raw",
   "metadata": {},
   "source": [
    "Convert the Population Estimate series to a string with thousands separator"
   ]
  },
  {
   "cell_type": "code",
   "execution_count": 9,
   "metadata": {},
   "outputs": [
    {
     "name": "stderr",
     "output_type": "stream",
     "text": [
      "/Users/vladimir/anaconda3/lib/python3.6/site-packages/ipykernel_launcher.py:2: SettingWithCopyWarning: \n",
      "A value is trying to be set on a copy of a slice from a DataFrame.\n",
      "Try using .loc[row_indexer,col_indexer] = value instead\n",
      "\n",
      "See the caveats in the documentation: http://pandas.pydata.org/pandas-docs/stable/indexing.html#indexing-view-versus-copy\n",
      "  \n"
     ]
    }
   ],
   "source": [
    "Top15[population] = (Top15[population].astype(float)\n",
    "                       .apply(lambda x: '{0:,}'.format(x)))"
   ]
  },
  {
   "cell_type": "markdown",
   "metadata": {},
   "source": [
    "\n",
    "Calculate the average GDP over the last 10 years for each country in list"
   ]
  },
  {
   "cell_type": "code",
   "execution_count": 10,
   "metadata": {
    "collapsed": true,
    "scrolled": true
   },
   "outputs": [],
   "source": [
    "avgGDP = Top15.loc[:, '2006':'2015'].mean(axis=1).sort_values(ascending=False)"
   ]
  },
  {
   "cell_type": "markdown",
   "metadata": {},
   "source": [
    "The mean for `Energy Supply per Capita`"
   ]
  },
  {
   "cell_type": "code",
   "execution_count": 11,
   "metadata": {
    "collapsed": true
   },
   "outputs": [],
   "source": [
    "EnSuppPerCap = Top15['Energy Supply per Capita'].mean(axis=0)"
   ]
  },
  {
   "cell_type": "markdown",
   "metadata": {},
   "source": [
    "What country has the maximum % Renewable and what is the percentage?"
   ]
  },
  {
   "cell_type": "code",
   "execution_count": 12,
   "metadata": {
    "collapsed": true
   },
   "outputs": [],
   "source": [
    "maxprocRen =  Top15['% Renewable'].argmax(), Top15['% Renewable'].max()"
   ]
  },
  {
   "cell_type": "markdown",
   "metadata": {},
   "source": [
    "The maximum value for the 'Self-Citations/Total Citations' column, and what country has the highest ratio?"
   ]
  },
  {
   "cell_type": "code",
   "execution_count": 15,
   "metadata": {},
   "outputs": [
    {
     "data": {
      "text/plain": [
       "('China', 0.68931261793894216)"
      ]
     },
     "execution_count": 15,
     "metadata": {},
     "output_type": "execute_result"
    }
   ],
   "source": [
    "maxSelfCitRat = Top15.sort_values(by='Self-Citations/Total Citations', ascending=False).iloc[0]\n",
    "def maxSelfCitRatfun():\n",
    "    return (maxSelfCitRat.name, maxSelfCitRat['Self-Citations/Total Citations'])\n",
    "maxSelfCitRatfun()"
   ]
  },
  {
   "cell_type": "markdown",
   "metadata": {},
   "source": [
    "What is the third most populous country according to this estimate?\n",
    "\n",
    "*This function should return a single string value.*"
   ]
  },
  {
   "cell_type": "code",
   "execution_count": 17,
   "metadata": {},
   "outputs": [
    {
     "data": {
      "text/plain": [
       "'United Kingdom'"
      ]
     },
     "execution_count": 17,
     "metadata": {},
     "output_type": "execute_result"
    }
   ],
   "source": [
    "populationfunct = Top15.sort_values(by=population, ascending=False)\n",
    "def populationfundtf():\n",
    "    return populationfunct.index[2]\n",
    "\n",
    "populationfundtf()"
   ]
  },
  {
   "cell_type": "markdown",
   "metadata": {},
   "source": [
    " the correlation between the number of citable documents per capita and the energy supply per capita? "
   ]
  },
  {
   "cell_type": "code",
   "execution_count": 18,
   "metadata": {},
   "outputs": [
    {
     "ename": "NameError",
     "evalue": "name 'qw9_row1' is not defined",
     "output_type": "error",
     "traceback": [
      "\u001b[0;31m------------------------------------------------------------------\u001b[0m",
      "\u001b[0;31mNameError\u001b[0m                        Traceback (most recent call last)",
      "\u001b[0;32m<ipython-input-18-188012e54854>\u001b[0m in \u001b[0;36m<module>\u001b[0;34m()\u001b[0m\n\u001b[1;32m      1\u001b[0m \u001b[0;34m\u001b[0m\u001b[0m\n\u001b[1;32m      2\u001b[0m \u001b[0;31m#apply corr\u001b[0m\u001b[0;34m\u001b[0m\u001b[0;34m\u001b[0m\u001b[0m\n\u001b[0;32m----> 3\u001b[0;31m \u001b[0mcorr\u001b[0m \u001b[0;34m=\u001b[0m \u001b[0mTop15\u001b[0m\u001b[0;34m[\u001b[0m\u001b[0mqw9_row1\u001b[0m\u001b[0;34m]\u001b[0m\u001b[0;34m.\u001b[0m\u001b[0mcorr\u001b[0m\u001b[0;34m(\u001b[0m\u001b[0mTop15\u001b[0m\u001b[0;34m[\u001b[0m\u001b[0;34m'Energy Supply per Capita'\u001b[0m\u001b[0;34m]\u001b[0m\u001b[0;34m)\u001b[0m\u001b[0;34m\u001b[0m\u001b[0m\n\u001b[0m",
      "\u001b[0;31mNameError\u001b[0m: name 'qw9_row1' is not defined"
     ]
    }
   ],
   "source": [
    "\n",
    "#apply corr\n",
    "corr = Top15[qw9_row1].corr(Top15['Energy Supply per Capita'])"
   ]
  },
  {
   "cell_type": "code",
   "execution_count": null,
   "metadata": {
    "collapsed": true
   },
   "outputs": [],
   "source": [
    "def plot9():\n",
    "    import matplotlib as plt\n",
    "    %matplotlib inline\n",
    "    \n",
    "    Top15 = answer_one()\n",
    "    Top15['PopEst'] = Top15['Energy Supply'] / Top15['Energy Supply per Capita']\n",
    "    Top15['Citable docs per Capita'] = Top15['Citable documents'] / Top15['PopEst']\n",
    "    Top15.plot(x='Citable docs per Capita', y='Energy Supply per Capita', kind='scatter', xlim=[0, 0.0006])"
   ]
  },
  {
   "cell_type": "code",
   "execution_count": null,
   "metadata": {
    "collapsed": true
   },
   "outputs": [],
   "source": [
    "plot9()"
   ]
  },
  {
   "cell_type": "markdown",
   "metadata": {},
   "source": [
    "The reduction to the continents group. And summery"
   ]
  },
  {
   "cell_type": "code",
   "execution_count": null,
   "metadata": {
    "collapsed": true
   },
   "outputs": [],
   "source": [
    "ContinentDict  = {'China':'Asia', \n",
    "                  'United States':'North America', \n",
    "                  'Japan':'Asia', \n",
    "                  'United Kingdom':'Europe', \n",
    "                  'Russian Federation':'Europe', \n",
    "                  'Canada':'North America', \n",
    "                  'Germany':'Europe', \n",
    "                  'India':'Asia',\n",
    "                  'France':'Europe', \n",
    "                  'South Korea':'Asia', \n",
    "                  'Italy':'Europe', \n",
    "                  'Spain':'Europe', \n",
    "                  'Iran':'Asia',\n",
    "                  'Australia':'Australia', \n",
    "                  'Brazil':'South America'}\n",
    "\n",
    "new_columns = ['size', 'sum', 'mean', 'std']\n",
    "continents = pd.DataFrame(columns=new_columns)\n",
    "for group, frame in Top15.groupby(ContinentDict):\n",
    "     continents.loc[group] = [len(frame), frame[qw9_row].sum(),frame[qw9_row].mean(),frame[qw9_row].std()]\n",
    "\n",
    "def continents_fun():\n",
    "    return continents\n",
    "\n",
    "continents_fun()"
   ]
  },
  {
   "cell_type": "markdown",
   "metadata": {},
   "source": [
    "Cut % Renewable into 5 bins. Group Top15 by the Continent, as well as these new % Renewable bins. "
   ]
  },
  {
   "cell_type": "code",
   "execution_count": null,
   "metadata": {
    "collapsed": true,
    "scrolled": true
   },
   "outputs": [],
   "source": [
    "Top15 = Top15.reset_index()\n",
    "Top15['Continent'] = [ContinentDict[country] for country in Top15['Country']]\n",
    "Top15['bins'] = pd.cut(Top15['% Renewable'],5)\n",
    "def bins():\n",
    "    return Top15.groupby(['Continent','bins']).size()\n",
    "\n",
    "\n",
    "bins()"
   ]
  },
  {
   "cell_type": "code",
   "execution_count": null,
   "metadata": {
    "collapsed": true,
    "scrolled": true
   },
   "outputs": [],
   "source": [
    "def plot_optional():\n",
    "    import matplotlib as plt\n",
    "    %matplotlib inline\n",
    "    Top15 = answer_one()\n",
    "    ax = Top15.plot(x='Rank', y='% Renewable', kind='scatter', \n",
    "                    c=['#e41a1c','#377eb8','#e41a1c','#4daf4a','#4daf4a','#377eb8','#4daf4a','#e41a1c',\n",
    "                       '#4daf4a','#e41a1c','#4daf4a','#4daf4a','#e41a1c','#dede00','#ff7f00'], \n",
    "                    xticks=range(1,16), s=6*Top15['2014']/10**10, alpha=.75, figsize=[16,6]);\n",
    "\n",
    "    for i, txt in enumerate(Top15.index):\n",
    "        ax.annotate(txt, [Top15['Rank'][i], Top15['% Renewable'][i]], ha='center')\n",
    "\n",
    "    print(\"This is an example of a visualization that can be created to help understand the data. \\\n",
    "This is a bubble chart showing % Renewable vs. Rank. The size of the bubble corresponds to the countries' \\\n",
    "2014 GDP, and the color corresponds to the continent.\")"
   ]
  },
  {
   "cell_type": "code",
   "execution_count": null,
   "metadata": {
    "collapsed": true
   },
   "outputs": [],
   "source": [
    "plot_final()"
   ]
  }
 ],
 "metadata": {
  "anaconda-cloud": {},
  "coursera": {
   "course_slug": "python-data-analysis",
   "graded_item_id": "zAr06",
   "launcher_item_id": "KSSjT",
   "part_id": "SL3fU"
  },
  "kernelspec": {
   "display_name": "Python 3",
   "language": "python",
   "name": "python3"
  },
  "language_info": {
   "codemirror_mode": {
    "name": "ipython",
    "version": 3
   },
   "file_extension": ".py",
   "mimetype": "text/x-python",
   "name": "python",
   "nbconvert_exporter": "python",
   "pygments_lexer": "ipython3",
   "version": "3.6.3"
  }
 },
 "nbformat": 4,
 "nbformat_minor": 1
}
