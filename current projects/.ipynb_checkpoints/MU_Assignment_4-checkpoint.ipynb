{
 "cells": [
  {
   "cell_type": "markdown",
   "metadata": {},
   "source": [
    "---\n",
    "\n",
    "_You are currently looking at **version 1.1** of this notebook. To download notebooks and datafiles, as well as get help on Jupyter notebooks in the Coursera platform, visit the [Jupyter Notebook FAQ](https://www.coursera.org/learn/python-data-analysis/resources/0dhYG) course resource._\n",
    "\n",
    "---"
   ]
  },
  {
   "cell_type": "code",
   "execution_count": 43,
   "metadata": {
    "collapsed": true
   },
   "outputs": [],
   "source": [
    "import pandas as pd\n",
    "import numpy as np\n",
    "from scipy.stats import ttest_ind\n",
    "import matplotlib as plt\n",
    "#%matplotlib inline\n",
    "from pdb import set_trace\n",
    "from scipy.signal import argrelextrema"
   ]
  },
  {
   "cell_type": "markdown",
   "metadata": {},
   "source": [
    "# Assignment 4 - Hypothesis Testing\n",
    "This assignment requires more individual learning than previous assignments - you are encouraged to check out the [pandas documentation](http://pandas.pydata.org/pandas-docs/stable/) to find functions or methods you might not have used yet, or ask questions on [Stack Overflow](http://stackoverflow.com/) and tag them as pandas and python related. And of course, the discussion forums are open for interaction with your peers and the course staff.\n",
    "\n",
    "Definitions:\n",
    "* A _quarter_ is a specific three month period, Q1 is January through March, Q2 is April through June, Q3 is July through September, Q4 is October through December.\n",
    "* A _recession_ is defined as starting with two consecutive quarters of GDP decline, and ending with two consecutive quarters of GDP growth.\n",
    "* A _recession bottom_ is the quarter within a recession which had the lowest GDP.\n",
    "* A _university town_ is a city which has a high percentage of university students compared to the total population of the city.\n",
    "\n",
    "**Hypothesis**: University towns have their mean housing prices less effected by recessions. Run a t-test to compare the ratio of the mean price of houses in university towns the quarter before the recession starts compared to the recession bottom. (`price_ratio=quarter_before_recession/recession_bottom`)\n",
    "\n",
    "The following data files are available for this assignment:\n",
    "* From the [Zillow research data site](http://www.zillow.com/research/data/) there is housing data for the United States. In particular the datafile for [all homes at a city level](http://files.zillowstatic.com/research/public/City/City_Zhvi_AllHomes.csv), ```City_Zhvi_AllHomes.csv```, has median home sale prices at a fine grained level.\n",
    "* From the Wikipedia page on college towns is a list of [university towns in the United States](https://en.wikipedia.org/wiki/List_of_college_towns#College_towns_in_the_United_States) which has been copy and pasted into the file ```university_towns.txt```.\n",
    "* From Bureau of Economic Analysis, US Department of Commerce, the [GDP over time](http://www.bea.gov/national/index.htm#gdp) of the United States in current dollars (use the chained value in 2009 dollars), in quarterly intervals, in the file ```gdplev.xls```. For this assignment, only look at GDP data from the first quarter of 2000 onward.\n",
    "\n",
    "Each function in this assignment below is worth 10%, with the exception of ```run_ttest()```, which is worth 50%."
   ]
  },
  {
   "cell_type": "code",
   "execution_count": 44,
   "metadata": {
    "collapsed": true
   },
   "outputs": [],
   "source": [
    "# Use this dictionary to map state names to two letter acronyms\n",
    "states = {'OH': 'Ohio', 'KY': 'Kentucky', 'AS': 'American Samoa', 'NV': 'Nevada', 'WY': 'Wyoming', 'NA': 'National', 'AL': 'Alabama', 'MD': 'Maryland', 'AK': 'Alaska', 'UT': 'Utah', 'OR': 'Oregon', 'MT': 'Montana', 'IL': 'Illinois', 'TN': 'Tennessee', 'DC': 'District of Columbia', 'VT': 'Vermont', 'ID': 'Idaho', 'AR': 'Arkansas', 'ME': 'Maine', 'WA': 'Washington', 'HI': 'Hawaii', 'WI': 'Wisconsin', 'MI': 'Michigan', 'IN': 'Indiana', 'NJ': 'New Jersey', 'AZ': 'Arizona', 'GU': 'Guam', 'MS': 'Mississippi', 'PR': 'Puerto Rico', 'NC': 'North Carolina', 'TX': 'Texas', 'SD': 'South Dakota', 'MP': 'Northern Mariana Islands', 'IA': 'Iowa', 'MO': 'Missouri', 'CT': 'Connecticut', 'WV': 'West Virginia', 'SC': 'South Carolina', 'LA': 'Louisiana', 'KS': 'Kansas', 'NY': 'New York', 'NE': 'Nebraska', 'OK': 'Oklahoma', 'FL': 'Florida', 'CA': 'California', 'CO': 'Colorado', 'PA': 'Pennsylvania', 'DE': 'Delaware', 'NM': 'New Mexico', 'RI': 'Rhode Island', 'MN': 'Minnesota', 'VI': 'Virgin Islands', 'NH': 'New Hampshire', 'MA': 'Massachusetts', 'GA': 'Georgia', 'ND': 'North Dakota', 'VA': 'Virginia'}"
   ]
  },
  {
   "cell_type": "code",
   "execution_count": 45,
   "metadata": {},
   "outputs": [],
   "source": [
    "def get_list_of_university_towns():\n",
    "    '''Returns a DataFrame of towns and the states they are in from the \n",
    "    university_towns.txt list. The format of the DataFrame should be:\n",
    "    DataFrame( [ [\"Michigan\", \"Ann Arbor\"], [\"Michigan\", \"Yipsilanti\"] ], \n",
    "    columns=[\"State\", \"RegionName\"]  )\n",
    "    \n",
    "    The following cleaning needs to be done:\n",
    "\n",
    "    1. For \"State\", removing characters from \"[\" to the end.\n",
    "    2. For \"RegionName\", when applicable, removing every character from \" (\" to the end.\n",
    "    3. Depending on how you read the data, you may need to remove newline character '\\n'. '''\n",
    "\n",
    "    \n",
    "    Un_sity= pd.read_table('university_towns.txt', header=None)\n",
    "    tmp = ''\n",
    "    deldubl= False\n",
    "    Un_sity[1] = [0 for i in range(len(Un_sity))]\n",
    "    for i in range(len(Un_sity)):\n",
    "        if '[edit]' in Un_sity.iloc[i,0]:\n",
    "             tmp= Un_sity.iloc[i,0].split('[')[0]        \n",
    "        Un_sity.iloc[i,1] = tmp\n",
    "        if '(' in Un_sity.iloc[i,0]:\n",
    "            Un_sity.iloc[i,0] = Un_sity.iloc[i,0].split('(')[0]\n",
    "    Un_sity.columns = [\"RegionName\",\"State\"]\n",
    "    Un_sity['RegionName'] = Un_sity['RegionName'].apply(lambda x: x.strip(' '))   \n",
    "    Un_sity = (Un_sity[Un_sity.RegionName.str.contains('\\[edit\\]') == False]\n",
    "               .reset_index(drop=True))\n",
    "    col = Un_sity.columns.tolist()\n",
    "    col = col[-1:] + col[:-1]\n",
    "    Un_sity = Un_sity[col]\n",
    "    return Un_sity\n",
    "\n",
    "#get_list_of_university_towns()"
   ]
  },
  {
   "cell_type": "code",
   "execution_count": 46,
   "metadata": {},
   "outputs": [],
   "source": [
    "gdplev = pd.read_excel('gdplev.xls',skiprows=5)\n",
    "\n",
    "gdplev_year = gdplev.loc[:,'Unnamed: 0':'GDP in billions of chained 2009 dollars']\n",
    "gdplev_year.columns = ['Date','GDP in billions of current dollars','GDP in billions of chained 2009 dollars']\n",
    "gdplev_year.dropna(axis=0, how='all',inplace=True)   \n",
    "gdplev_year['Date'] = (gdplev_year['Date'].astype(str).apply(lambda x: pd.to_datetime(x, format='%Y.0'))\n",
    "                       .apply(lambda x: x.year))\n",
    "\n",
    "\n",
    "gdplev_quart = gdplev.loc[:,'Unnamed: 4':'GDP in billions of chained 2009 dollars.1']\n",
    "gdplev_quart.dropna(axis=0, how='all',inplace=True)\n",
    "gdplev_quart.columns = ['Date','GDP in billions of current dollars','GDP in billions of chained 2009 dollars']\n",
    "\n",
    "gdplev_quart = gdplev_quart.set_index('Date')\n",
    "gdplev_quart.drop(gdplev_quart.index[:-66], inplace=True)\n",
    "\n",
    "\n",
    "qw_ind = list(gdplev_quart.index)\n",
    "gdplev_quart_ress = gdplev_quart.iloc[-40:-15]\n",
    "#gdplev_quart_ress.plot(y='GDP in billions of chained 2009 dollars', kind='line')"
   ]
  },
  {
   "cell_type": "code",
   "execution_count": 47,
   "metadata": {},
   "outputs": [],
   "source": [
    "def get_recession_start():\n",
    "    '''Returns the year and quarter of the recession start time as a \n",
    "    string value in a format such as 2005q3'''    \n",
    "    x = argrelextrema(gdplev_quart['GDP in billions of chained 2009 dollars'].values,np.less)\n",
    "    return gdplev_quart.index.values[x[0][2]]\n",
    "\n",
    "#get_recession_start()"
   ]
  },
  {
   "cell_type": "code",
   "execution_count": 48,
   "metadata": {},
   "outputs": [],
   "source": [
    "def get_recession_end():\n",
    "    '''Returns the year and quarter of the recession end time as a \n",
    "    string value in a format such as 2005q3'''\n",
    "    x = argrelextrema(gdplev_quart['GDP in billions of chained 2009 dollars'].values,np.greater)\n",
    "    return gdplev_quart.index.values[x[0][4]]\n",
    "#get_recession_end()"
   ]
  },
  {
   "cell_type": "code",
   "execution_count": 49,
   "metadata": {},
   "outputs": [],
   "source": [
    "def get_recession_bottom():\n",
    "    '''Returns the year and quarter of the recession bottom time as a \n",
    "    string value in a format such as 2005q3'''\n",
    "    x = argrelextrema(gdplev_quart['GDP in billions of chained 2009 dollars'].values,np.less)\n",
    "    return gdplev_quart.index.values[x[0][3]]\n",
    "#get_recession_bottom()"
   ]
  },
  {
   "cell_type": "code",
   "execution_count": 50,
   "metadata": {},
   "outputs": [],
   "source": [
    "def convert_housing_data_to_quarters():\n",
    "    '''Converts the housing data to quarters and returns it as mean \n",
    "    values in a dataframe. This dataframe should be a dataframe with\n",
    "    columns for 2000q1 through 2016q3, and should have a multi-index\n",
    "    in the shape of [\"State\",\"RegionName\"].\n",
    "    \n",
    "    Note: Quarters are defined in the assignment descraiption, they are\n",
    "    not arbitrary three month periods.\n",
    "    \n",
    "    The resulting dataframe should have 67 columns, and 10,730 rows.\n",
    "    '''\n",
    "    City_Zhvi= pd.read_csv('City_Zhvi_AllHomes.csv')\n",
    "    City_Zhvi['State'] = City_Zhvi['State'].map(states)\n",
    "    City_Zhvi = City_Zhvi.set_index(['State','RegionName']).iloc[:,-200:]\n",
    "    qw_ind.append('2016q3')\n",
    "    City_Zhvi_qw = pd.DataFrame(index=City_Zhvi.index,columns=qw_ind)\n",
    "\n",
    "    City_t = City_Zhvi.T\n",
    "    City_t.index = City_t.index.map(lambda x: x.split('-')[0])\n",
    "    i=0\n",
    "    for group, frame in City_t.groupby(level=0):\n",
    "        if group != '2016':\n",
    "            df1, df2, df3, df4 = np.array_split(frame, 4)\n",
    "            City_Zhvi_qw[qw_ind[i]] =df1.mean(axis=0)\n",
    "            City_Zhvi_qw[qw_ind[i+1]] =df2.mean(axis=0)\n",
    "            City_Zhvi_qw[qw_ind[i+2]] =df3.mean(axis=0)\n",
    "            City_Zhvi_qw[qw_ind[i+3]] =df4.mean(axis=0)\n",
    "            i+=4\n",
    "\n",
    "        else:\n",
    "            df1, df2 = np.array_split(frame[:-2], 2)\n",
    "            df3 = frame.iloc[-2:]\n",
    "\n",
    "            City_Zhvi_qw[qw_ind[i]] =df1.mean(axis=0)\n",
    "            City_Zhvi_qw[qw_ind[i+1]] =df2.mean(axis=0)\n",
    "            City_Zhvi_qw[qw_ind[i+2]] =df3.mean(axis=0)\n",
    "\n",
    "    \n",
    "    return City_Zhvi_qw\n",
    "\n",
    "#convert_housing_data_to_quarters()"
   ]
  },
  {
   "cell_type": "code",
   "execution_count": 51,
   "metadata": {},
   "outputs": [
    {
     "data": {
      "text/plain": [
       "(True, 1.7900059546810142e-05, 'university town')"
      ]
     },
     "execution_count": 51,
     "metadata": {},
     "output_type": "execute_result"
    }
   ],
   "source": [
    "def run_ttest():\n",
    "    '''First creates new data showing the decline or growth of housing prices\n",
    "    between the recession start and the recession bottom. Then runs a ttest\n",
    "    comparing the university town values to the non-university towns values, \n",
    "    return whether the alternative hypothesis (that the two groups are the same)\n",
    "    is true or not as well as the p-value of the confidence. \n",
    "    \n",
    "    Return the tuple (different, p, better) where different=True if the t-test is\n",
    "    True at a p<0.01 (we reject the null hypothesis), or different=False if \n",
    "    otherwise (we cannot reject the null hypothesis). The variable p should\n",
    "    be equal to the exact p value returned from scipy.stats.ttest_ind(). The\n",
    "    value for better should be either \"university town\" or \"non-university town\"\n",
    "    depending on which has a lower mean price ratio (which is equivilent to a\n",
    "    reduced market loss).'''\n",
    "    \n",
    "    price_ratio =  (lambda row : (row[oneq_befor] - row[get_recession_bottom()])/row[oneq_befor])\n",
    "    def is_uni_town(row):\n",
    "        #check if the town is a university towns or not.\n",
    "        if row['RegionName'] in uni_town:\n",
    "            return 1\n",
    "        else:\n",
    "            return 0\n",
    "    def is_better():\n",
    "        if not_uni.mean() < is_uni.mean():\n",
    "            return 'non-university town'\n",
    "        else:\n",
    "            return 'university town'\n",
    "    \n",
    "    def is_test_true():\n",
    "        if p_val < 0.01:\n",
    "            return True\n",
    "        else:\n",
    "            return False\n",
    "    uni_town = get_list_of_university_towns()['RegionName']\n",
    "    uni_town = set(uni_town)\n",
    "    df = (convert_housing_data_to_quarters().copy()\n",
    "          .loc[:,'2007q4':'2009q2']\n",
    "          .reset_index())\n",
    "    #oneq_befor = df.columns.get_loc(get_recession_start()) - 1\n",
    "    oneq_befor = '2007q4'\n",
    "    df['is_uni'] = df.apply(is_uni_town,axis=1)\n",
    "    df['up&down'] = df.apply(price_ratio,axis=1)\n",
    "    df['up&down'].to_csv('exit2.csv')    \n",
    "    not_uni = df[df['is_uni']==0].loc[:,'up&down'].dropna()\n",
    "    is_uni  = df[df['is_uni']==1].loc[:,'up&down'].dropna()\n",
    "    p_val = list(ttest_ind(not_uni,is_uni))[1]\n",
    "    return (is_test_true(),p_val,is_better())\n",
    "\n",
    "run_ttest()"
   ]
  },
  {
   "cell_type": "code",
   "execution_count": null,
   "metadata": {
    "collapsed": true
   },
   "outputs": [],
   "source": []
  }
 ],
 "metadata": {
  "coursera": {
   "course_slug": "python-data-analysis",
   "graded_item_id": "Il9Fx",
   "launcher_item_id": "TeDW0",
   "part_id": "WGlun"
  },
  "kernelspec": {
   "display_name": "Python 3",
   "language": "python",
   "name": "python3"
  },
  "language_info": {
   "codemirror_mode": {
    "name": "ipython",
    "version": 3
   },
   "file_extension": ".py",
   "mimetype": "text/x-python",
   "name": "python",
   "nbconvert_exporter": "python",
   "pygments_lexer": "ipython3",
   "version": "3.6.3"
  }
 },
 "nbformat": 4,
 "nbformat_minor": 1
}
