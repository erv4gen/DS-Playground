{
 "cells": [
  {
   "cell_type": "code",
   "execution_count": null,
   "metadata": {
    "collapsed": true
   },
   "outputs": [],
   "source": [
    "import pandas as pd\n",
    "import numpy as np\n",
    "\n",
    "    \n",
    "filepath= './data/Energy Indicators.xls'\n",
    "\n",
    "#read file\n",
    "energy = pd.read_excel(filepath)\n",
    "\n",
    "#cleaning data\n",
    "energy = (energy[16:243]\n",
    "    .drop(energy.columns[[0, 1]], axis=1)\n",
    "    .rename(columns={'Environmental Indicators: Energy': 'Country',\n",
    "                     'Unnamed: 3':'Energy Supply',\n",
    "                     'Unnamed: 4' : 'Energy Supply per Capita',\n",
    "                     'Unnamed: 5':'% Renewable'})\n",
    "    .set_index('Country')\n",
    "          )\n"
   ]
  },
  {
   "cell_type": "code",
   "execution_count": null,
   "metadata": {
    "collapsed": true
   },
   "outputs": [],
   "source": [
    "#clean missing values\n",
    "energy.replace('...',np.nan,inplace =True)\n",
    "#change rows\n",
    "rows_to_Change = {\"Republic of Korea\": \"South Korea\",\n",
    "                  \"United States of America\": \"United States\",\n",
    "                  \"United Kingdom of Great Britain and Northern Ireland\": \"United Kingdom\",\n",
    "                  \"China, Hong Kong Special Administrative Region\": \"Hong Kong\"}\n",
    "#change rows\n",
    "energy['Energy Supply']*= 1000000\n",
    "\n",
    "energy = energy.reset_index()\n",
    "energy.replace({\"Country\": rows_to_Change},inplace = True)\n",
    "energy['Country'] = (energy['Country'].apply(lambda x: x.split('(')[0].rstrip(' ').replace(r\"\\d+\",''))\n",
    "    .apply(lambda a: \"\".join([x for x in a if x.isalpha()]))\n",
    "                     )"
   ]
  },
  {
   "cell_type": "code",
   "execution_count": null,
   "metadata": {
    "collapsed": true
   },
   "outputs": [],
   "source": [
    "#open world bank file\n",
    "wb_path='./data/world_bank.csv'\n",
    "GDP = pd.read_csv(wb_path,skiprows=4)\n",
    "GDP.head()"
   ]
  },
  {
   "cell_type": "code",
   "execution_count": null,
   "metadata": {
    "collapsed": true
   },
   "outputs": [],
   "source": [
    "#change rows names and clead data\n",
    "rows_to_Change = {'Korea, Rep.': \"South Korea\", \n",
    "                  \"Iran, Islamic Rep.\": \"Iran\",\n",
    "                  \"Hong Kong SAR, China\": \"Hong Kong\"\n",
    "                 }\n",
    "GDP.replace({'Country Name': rows_to_Change},inplace=True)\n",
    "GDP.rename(columns={'Country Name': 'Country'}, inplace=True)\n",
    "GDP.drop(GDP.columns[1:-10],axis=1, inplace=True)"
   ]
  },
  {
   "cell_type": "code",
   "execution_count": null,
   "metadata": {
    "collapsed": true
   },
   "outputs": [],
   "source": [
    "#read last file\n",
    "filename_ ='./data/scimagojr-3.xlsx'\n",
    "ScimEn = pd.read_excel(filename_)\n",
    "ScimEn.head()"
   ]
  },
  {
   "cell_type": "raw",
   "metadata": {},
   "source": [
    "Join the three datasets: GDP, Energy, and ScimEn into a new dataset (using the intersection of country names). Use only the last 10 years (2006-2015) of GDP data and only the top 15 countries by Scimagojr 'Rank' (Rank 1 through 15).\n",
    "The index of this DataFrame should be the name of the country, and the columns should be ['Rank', 'Documents', 'Citable documents', 'Citations', 'Self-citations', 'Citations per document', 'H index', 'Energy Supply', 'Energy Supply per Capita', '% Renewable', '2006', '2007', '2008', '2009', '2010', '2011', '2012', '2013', '2014', '2015'].\n"
   ]
  },
  {
   "cell_type": "code",
   "execution_count": null,
   "metadata": {
    "collapsed": true
   },
   "outputs": [],
   "source": [
    "df = SciEn.merge(energy,on='Country').merge(GDP, on='Country').set_index('Country')"
   ]
  },
  {
   "cell_type": "code",
   "execution_count": null,
   "metadata": {
    "collapsed": true
   },
   "outputs": [],
   "source": [
    "import pdb; set_trace()\n",
    "df.sort_values(by=\"Rank\",inplace=True)\n",
    "qw1 = df[:15]\n",
    "qw1"
   ]
  },
  {
   "cell_type": "raw",
   "metadata": {},
   "source": [
    "Question 2"
   ]
  },
  {
   "cell_type": "code",
   "execution_count": null,
   "metadata": {
    "collapsed": true
   },
   "outputs": [],
   "source": [
    "len(pd.merge(pd.merge(energy,GDP, how='outer'),SciEn,how='outer')) - len(qw1)"
   ]
  },
  {
   "cell_type": "raw",
   "metadata": {},
   "source": [
    "Question 3"
   ]
  },
  {
   "cell_type": "code",
   "execution_count": null,
   "metadata": {
    "collapsed": true
   },
   "outputs": [],
   "source": [
    "avgGDP = qw1.loc[:, '2006':'2015'].mean(axis=1).sort_values(ascending=False)"
   ]
  },
  {
   "cell_type": "raw",
   "metadata": {},
   "source": [
    "Question 4"
   ]
  },
  {
   "cell_type": "code",
   "execution_count": null,
   "metadata": {
    "collapsed": true
   },
   "outputs": [],
   "source": [
    "i = avgGDP.index[5]\n",
    "df.loc[i,'2015'] - df.loc[i,'2006']\n"
   ]
  },
  {
   "cell_type": "raw",
   "metadata": {},
   "source": [
    "Question 5"
   ]
  },
  {
   "cell_type": "code",
   "execution_count": null,
   "metadata": {
    "collapsed": true
   },
   "outputs": [],
   "source": [
    "qw5 = df['Energy Supply per Capita'].mean(axis=0)"
   ]
  },
  {
   "cell_type": "code",
   "execution_count": null,
   "metadata": {
    "collapsed": true
   },
   "outputs": [],
   "source": [
    "qw5"
   ]
  },
  {
   "cell_type": "raw",
   "metadata": {},
   "source": [
    "Question 6"
   ]
  },
  {
   "cell_type": "code",
   "execution_count": null,
   "metadata": {
    "collapsed": true
   },
   "outputs": [],
   "source": [
    "qw6 =  df['% Renewable'].argmax(),df['% Renewable'].max()\n",
    "print(qw6)"
   ]
  },
  {
   "cell_type": "raw",
   "metadata": {},
   "source": [
    "Question 7"
   ]
  },
  {
   "cell_type": "code",
   "execution_count": null,
   "metadata": {
    "collapsed": true
   },
   "outputs": [],
   "source": [
    "qw_column = 'Self-Citations/Total Citations'\n",
    "df[qw_column] = ((df['Self-citations'])/sum(df['Self-citations']))\n",
    "qw7 =  df[qw_column].argmax(), df[qw_column].max()\n",
    "print(qw7)"
   ]
  },
  {
   "cell_type": "raw",
   "metadata": {},
   "source": [
    "Question 8"
   ]
  },
  {
   "cell_type": "code",
   "execution_count": null,
   "metadata": {
    "collapsed": true
   },
   "outputs": [],
   "source": [
    "qw_column8 = \"Energy Supply/Energy Supply per capita\"\n",
    "df[qw_column8] = ((df['Energy Supply'])/(df['Energy Supply per Capita']))\n",
    "qw8 = df.sort_values(by=qw_column8)\n",
    "qw8.index[2]"
   ]
  },
  {
   "cell_type": "raw",
   "metadata": {},
   "source": [
    "Question 9"
   ]
  },
  {
   "cell_type": "code",
   "execution_count": null,
   "metadata": {
    "collapsed": true
   },
   "outputs": [],
   "source": [
    "df.head()"
   ]
  },
  {
   "cell_type": "code",
   "execution_count": null,
   "metadata": {
    "collapsed": true
   },
   "outputs": [],
   "source": [
    "qw9_row = 'Count of person'\n",
    "qw9_row1 = 'Citable documents per person'\n",
    "df[qw9_row] = (df['Energy Supply']/ (df['Energy Supply per Capita']))\n",
    "df[qw9_row1] = (df['Citable documents']/ (df[qw9_row ]) )"
   ]
  },
  {
   "cell_type": "code",
   "execution_count": null,
   "metadata": {
    "collapsed": true
   },
   "outputs": [],
   "source": [
    "#apply corr\n",
    "corr = df[qw9_row1].corr(df['Energy Supply per Capita'])\n",
    "corr"
   ]
  },
  {
   "cell_type": "code",
   "execution_count": null,
   "metadata": {
    "collapsed": true
   },
   "outputs": [],
   "source": [
    "\n",
    "    import matplotlib as plt\n",
    "    %matplotlib inline\n",
    "    \n",
    "    Top15 = qw1\n",
    "    Top15['PopEst'] = Top15['Energy Supply'] / Top15['Energy Supply per Capita']\n",
    "    Top15['Citable docs per Capita'] = Top15['Citable documents'] / Top15['PopEst']\n",
    "    Top15.plot(x='Citable docs per Capita', y='Energy Supply per Capita', kind='scatter', xlim=[0, 0.0006])\n",
    "\n",
    "plot9()"
   ]
  },
  {
   "cell_type": "code",
   "execution_count": null,
   "metadata": {
    "collapsed": true
   },
   "outputs": [],
   "source": [
    "#ploting \n",
    "df.plot(x='Citable documents per person', y='Energy Supply per Capita', kind='scatter', xlim=[0, 0.0006])\n",
    "plt.show()"
   ]
  },
  {
   "cell_type": "raw",
   "metadata": {},
   "source": [
    "Question 10\n",
    "Create a new column with a 1 if the country's % Renewable value is at or above the median for all countries in the top 15, and a 0 if the country's % Renewable value is below the median.\n",
    "\n",
    "*This function should return a series named `HighRenew` whose index is the country name sorted in ascending order of rank.*\n"
   ]
  },
  {
   "cell_type": "code",
   "execution_count": null,
   "metadata": {
    "collapsed": true,
    "scrolled": false
   },
   "outputs": [],
   "source": [
    "top15 = qw1\n",
    "top15['Renewable group'] = ((top15['% Renewable'] >= top15['% Renewable'].median())\n",
    "                         .apply(lambda x: 1 if x else 0))\n",
    "HighRenew = top15.sort_values(by = 'Rank')\n",
    "HighRenew"
   ]
  },
  {
   "cell_type": "raw",
   "metadata": {},
   "source": [
    "Question 11"
   ]
  },
  {
   "cell_type": "code",
   "execution_count": null,
   "metadata": {
    "collapsed": true
   },
   "outputs": [],
   "source": [
    "ContinentDict  = {'China':'Asia', \n",
    "                  'United States':'North America', \n",
    "                  'Japan':'Asia', \n",
    "                  'United Kingdom':'Europe', \n",
    "                  'Russian Federation':'Europe', \n",
    "                  'Canada':'North America', \n",
    "                  'Germany':'Europe', \n",
    "                  'India':'Asia',\n",
    "                  'France':'Europe', \n",
    "                  'South Korea':'Asia', \n",
    "                  'Italy':'Europe', \n",
    "                  'Spain':'Europe', \n",
    "                  'Iran':'Asia',\n",
    "                  'Australia':'Australia', \n",
    "                  'Brazil':'South America'}\n",
    "\n",
    "new_columns = ['size', 'sum', 'mean', 'std']\n",
    "qw11 = pd.DataFrame(columns=new_columns)\n",
    "top15 = qw1\n",
    "for group, frame in top15.groupby(ContinentDict):\n",
    "    print(frame['Energy Supply'],'inside the group: ',group)\n"
   ]
  },
  {
   "cell_type": "code",
   "execution_count": null,
   "metadata": {
    "collapsed": true
   },
   "outputs": [],
   "source": []
  }
 ],
 "metadata": {
  "kernelspec": {
   "display_name": "Python 3",
   "language": "python",
   "name": "python3"
  },
  "language_info": {
   "codemirror_mode": {
    "name": "ipython",
    "version": 3
   },
   "file_extension": ".py",
   "mimetype": "text/x-python",
   "name": "python",
   "nbconvert_exporter": "python",
   "pygments_lexer": "ipython3",
   "version": "3.6.3"
  }
 },
 "nbformat": 4,
 "nbformat_minor": 1
}
