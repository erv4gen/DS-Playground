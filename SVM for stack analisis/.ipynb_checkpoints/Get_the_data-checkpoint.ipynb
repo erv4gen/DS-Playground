{
 "cells": [
  {
   "cell_type": "raw",
   "metadata": {},
   "source": [
    "Stock analysis"
   ]
  },
  {
   "cell_type": "code",
   "execution_count": 4,
   "metadata": {},
   "outputs": [],
   "source": [
    "from Functions import General ,PlotFunctions , DataAcquisition\n",
    "import time , os\n",
    "from tqdm import tqdm\n",
    "import pandas as pd\n",
    "from datetime import datetime\n",
    "import os\n",
    "from bs4 import BeautifulSoup\n",
    "import quandl\n",
    "from time import mktime\n",
    "import datetime as dt\n",
    "\n",
    "from ipdb import set_trace\n",
    "\n",
    "import numpy as np\n",
    "path='c:\\\\Datasets\\\\intraQuarter\\\\'"
   ]
  },
  {
   "cell_type": "code",
   "execution_count": 5,
   "metadata": {
    "scrolled": true
   },
   "outputs": [
    {
     "data": {
      "text/plain": [
       "\"df = DataAcquisition.GetStats(gathers= ['Profit Margin (ttm)',\\n                        'Total Debt/Equity (mrq)',\\n                        'Price/Book (mrq)',\\n                       'Return on Assets (ttm)'],\\n              path=path,\\n              limit=60) \\n\\ndf.head()\\n\\ndf.to_csv('df_stg.csv', index=False)\\n\\n\\ntickers= list(set(df.Ticker))\\nwith open('tickers.txt','w') as f:\\n    f.write('\\n'.join(tickers))\\n\""
      ]
     },
     "execution_count": 5,
     "metadata": {},
     "output_type": "execute_result"
    }
   ],
   "source": [
    "'''df = DataAcquisition.GetStats(gathers= ['Profit Margin (ttm)',\n",
    "                        'Total Debt/Equity (mrq)',\n",
    "                        'Price/Book (mrq)',\n",
    "                       'Return on Assets (ttm)'],\n",
    "              path=path,\n",
    "              limit=60) \n",
    "\n",
    "print('DF Shape - ', df.shape)\n",
    "\n",
    "df.to_csv('df_stg.csv', index=False)\n",
    "\n",
    "tickers= list(set(df.Ticker))\n",
    "with open('tickers.txt','w') as f:\n",
    "    f.write('\\n'.join(tickers))\n",
    "'''"
   ]
  },
  {
   "cell_type": "code",
   "execution_count": 6,
   "metadata": {},
   "outputs": [],
   "source": [
    "df = pd.read_csv('df_stg.csv')\n",
    "tickers = open('tickers.txt','r').read().splitlines()"
   ]
  },
  {
   "cell_type": "code",
   "execution_count": 7,
   "metadata": {},
   "outputs": [
    {
     "name": "stdout",
     "output_type": "stream",
     "text": [
      "Getting Stock Price Data...\n"
     ]
    },
    {
     "name": "stderr",
     "output_type": "stream",
     "text": [
      "100%|██████████████████████████████████████████████████████████████████████████████████| 22/22 [00:06<00:00,  3.56it/s]\n"
     ]
    },
    {
     "name": "stdout",
     "output_type": "stream",
     "text": [
      "Will save to file:  PriceVsSNP500.csv\n",
      "Getting Stock Price Data...\n"
     ]
    },
    {
     "name": "stderr",
     "output_type": "stream",
     "text": [
      " 56%|█████████████████████████████████████████████▌                                    | 10/18 [00:02<00:02,  3.68it/s]"
     ]
    },
    {
     "name": "stdout",
     "output_type": "stream",
     "text": [
      "Wrong Query to quandl\n"
     ]
    },
    {
     "name": "stderr",
     "output_type": "stream",
     "text": [
      "100%|██████████████████████████████████████████████████████████████████████████████████| 18/18 [00:05<00:00,  3.48it/s]\n"
     ]
    },
    {
     "name": "stdout",
     "output_type": "stream",
     "text": [
      "Will save to file:  PriceVsSNP500.csv\n",
      "Getting Stock Price Data...\n"
     ]
    },
    {
     "name": "stderr",
     "output_type": "stream",
     "text": [
      "  0%|                                                                                           | 0/14 [00:00<?, ?it/s]\n"
     ]
    },
    {
     "ename": "UnboundLocalError",
     "evalue": "local variable 'snp500_value' referenced before assignment",
     "output_type": "error",
     "traceback": [
      "\u001b[1;31m---------------------------------------------------------------------------\u001b[0m",
      "\u001b[1;31mUnboundLocalError\u001b[0m                         Traceback (most recent call last)",
      "\u001b[1;32m<ipython-input-7-178d019057f0>\u001b[0m in \u001b[0;36m<module>\u001b[1;34m()\u001b[0m\n\u001b[0;32m      2\u001b[0m \u001b[1;32mfor\u001b[0m \u001b[0mticker\u001b[0m \u001b[1;32min\u001b[0m \u001b[0mtickers\u001b[0m\u001b[1;33m:\u001b[0m\u001b[1;33m\u001b[0m\u001b[0m\n\u001b[0;32m      3\u001b[0m     \u001b[0mdates\u001b[0m \u001b[1;33m=\u001b[0m \u001b[0mdf\u001b[0m\u001b[1;33m.\u001b[0m\u001b[0mloc\u001b[0m\u001b[1;33m[\u001b[0m\u001b[0mdf\u001b[0m\u001b[1;33m[\u001b[0m\u001b[1;34m'Ticker'\u001b[0m\u001b[1;33m]\u001b[0m\u001b[1;33m==\u001b[0m\u001b[0mticker\u001b[0m\u001b[1;33m,\u001b[0m\u001b[1;34m'UNIX'\u001b[0m\u001b[1;33m]\u001b[0m\u001b[1;33m\u001b[0m\u001b[0m\n\u001b[1;32m----> 4\u001b[1;33m     \u001b[0mticker_price_df\u001b[0m \u001b[1;33m=\u001b[0m \u001b[0mDataAcquisition\u001b[0m\u001b[1;33m.\u001b[0m\u001b[0mget_stock_perfomance\u001b[0m\u001b[1;33m(\u001b[0m\u001b[0mticker\u001b[0m\u001b[1;33m,\u001b[0m\u001b[0mdates\u001b[0m\u001b[1;33m)\u001b[0m\u001b[1;33m\u001b[0m\u001b[0m\n\u001b[0m\u001b[0;32m      5\u001b[0m     \u001b[0mdf_list\u001b[0m\u001b[1;33m.\u001b[0m\u001b[0mappend\u001b[0m\u001b[1;33m(\u001b[0m\u001b[0mticker_price_df\u001b[0m\u001b[1;33m)\u001b[0m\u001b[1;33m\u001b[0m\u001b[0m\n\u001b[0;32m      6\u001b[0m \u001b[1;33m\u001b[0m\u001b[0m\n",
      "\u001b[1;32m~\\pjt\\data_science-projects\\SVM for stack analisis\\Functions\\DataAcquisition.py\u001b[0m in \u001b[0;36mget_stock_perfomance\u001b[1;34m(symbol, date_range)\u001b[0m\n\u001b[0;32m    197\u001b[0m             \u001b[0myty_perf_flag\u001b[0m \u001b[1;33m=\u001b[0m \u001b[1;36m0\u001b[0m\u001b[1;33m\u001b[0m\u001b[0m\n\u001b[0;32m    198\u001b[0m \u001b[1;33m\u001b[0m\u001b[0m\n\u001b[1;32m--> 199\u001b[1;33m             \u001b[0mstarting_sp_500_value\u001b[0m \u001b[1;33m=\u001b[0m \u001b[0msnp500_value\u001b[0m\u001b[1;33m\u001b[0m\u001b[0m\n\u001b[0m\u001b[0;32m    200\u001b[0m             \u001b[0mstarting_stock_value\u001b[0m \u001b[1;33m=\u001b[0m \u001b[0mstock_price\u001b[0m\u001b[1;33m\u001b[0m\u001b[0m\n\u001b[0;32m    201\u001b[0m \u001b[1;33m\u001b[0m\u001b[0m\n",
      "\u001b[1;31mUnboundLocalError\u001b[0m: local variable 'snp500_value' referenced before assignment"
     ]
    }
   ],
   "source": [
    "df_list = []\n",
    "for ticker in tickers:\n",
    "    dates = df.loc[df['Ticker']==ticker,'UNIX']\n",
    "    ticker_price_df = DataAcquisition.get_stock_perfomance(ticker,dates)\n",
    "    df_list.append(ticker_price_df)\n",
    "\n",
    "price_df = pd.concat(df_list, ignore_index=True)\n",
    "\n",
    "res_df = pd.merge(df,price_df,on=['UNIX','Ticker'],how='inner')\n",
    "\n",
    "res_df['Date'] = pd.to_datetime(res_df['Date'])"
   ]
  },
  {
   "cell_type": "code",
   "execution_count": null,
   "metadata": {},
   "outputs": [],
   "source": [
    "PlotFunctions.plot_df(res_df.loc[res_df.Ticker!='aapl'])"
   ]
  },
  {
   "cell_type": "code",
   "execution_count": null,
   "metadata": {},
   "outputs": [],
   "source": [
    "res_df = pd.read_csv('res1.csv')\n",
    "res_df.to_csv('res1.csv',index=False)"
   ]
  },
  {
   "cell_type": "code",
   "execution_count": null,
   "metadata": {},
   "outputs": [],
   "source": []
  }
 ],
 "metadata": {
  "kernelspec": {
   "display_name": "Python 3",
   "language": "python",
   "name": "python3"
  },
  "language_info": {
   "codemirror_mode": {
    "name": "ipython",
    "version": 3
   },
   "file_extension": ".py",
   "mimetype": "text/x-python",
   "name": "python",
   "nbconvert_exporter": "python",
   "pygments_lexer": "ipython3",
   "version": "3.6.5"
  }
 },
 "nbformat": 4,
 "nbformat_minor": 2
}
