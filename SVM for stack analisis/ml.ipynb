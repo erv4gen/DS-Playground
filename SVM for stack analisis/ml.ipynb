{
 "cells": [
  {
   "cell_type": "code",
   "execution_count": 1,
   "metadata": {},
   "outputs": [],
   "source": [
    "import numpy as np\n",
    "import pandas as pd\n",
    "from sklearn import svm\n",
    "from matplotlib import pyplot , style\n",
    "style.use('ggplot')"
   ]
  },
  {
   "cell_type": "code",
   "execution_count": 2,
   "metadata": {},
   "outputs": [],
   "source": [
    "def get_features(features=[\n",
    "                           'Total Debt/Equity (mrq)',\n",
    "                          'Price/Book (mrq)'], path='res1.csv'):\n",
    "    df = pd.read_csv(path)\n",
    "    X = np.array(df[features].values)\n",
    "    y = np.array(df['Absolute_Stock_Perfomance_Flag'])\n",
    "    return X, y\n",
    "\n",
    "def run_ml():\n",
    "    X,y = get_features()\n",
    "    clf = svm.SVM(kernal='linear',c=1.0)\n",
    "    w = clf.coef_[0]\n",
    "    a = -w[0] / w[1]\n",
    "    xx = np.linspace(min(X[:, 0]), max(X[:,1.0]))\n",
    "    yy= a * xx - clf.intersept_[0] / w[1]\n",
    "    h0 = plt.plot(xx,yy,'k-',lable='non weighted')\n",
    "    plt.scatter(X[:,0],X[:,1])\n",
    "    plt.ylabel('Price/Book')\n",
    "    plt.xlabel('Total Debt/Equity (mrq)')\n",
    "    plt.show()"
   ]
  },
  {
   "cell_type": "code",
   "execution_count": 8,
   "metadata": {},
   "outputs": [],
   "source": [
    "df.drop(['Date','SNPDate'],1,inplace=True) "
   ]
  },
  {
   "cell_type": "code",
   "execution_count": null,
   "metadata": {},
   "outputs": [],
   "source": []
  }
 ],
 "metadata": {
  "kernelspec": {
   "display_name": "Python 3",
   "language": "python",
   "name": "python3"
  },
  "language_info": {
   "codemirror_mode": {
    "name": "ipython",
    "version": 3
   },
   "file_extension": ".py",
   "mimetype": "text/x-python",
   "name": "python",
   "nbconvert_exporter": "python",
   "pygments_lexer": "ipython3",
   "version": "3.5.4"
  }
 },
 "nbformat": 4,
 "nbformat_minor": 2
}
