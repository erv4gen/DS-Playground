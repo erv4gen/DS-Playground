{
 "cells": [
  {
   "cell_type": "raw",
   "metadata": {},
   "source": [
    "Stock analysis"
   ]
  },
  {
   "cell_type": "code",
   "execution_count": 20,
   "metadata": {
    "collapsed": true
   },
   "outputs": [],
   "source": [
    "import time\n",
    "import pandas as pd\n",
    "from datetime import datetime\n",
    "import os\n",
    "from bs4 import BeautifulSoup\n",
    "path = \"c:\\\\Users\\\\15764\\\\Downloads\\\\intraQuarter\\\\\""
   ]
  },
  {
   "cell_type": "code",
   "execution_count": 55,
   "metadata": {},
   "outputs": [
    {
     "ename": "SyntaxError",
     "evalue": "invalid syntax (<ipython-input-55-adc4c199b337>, line 16)",
     "output_type": "error",
     "traceback": [
      "\u001b[1;36m  File \u001b[1;32m\"<ipython-input-55-adc4c199b337>\"\u001b[1;36m, line \u001b[1;32m16\u001b[0m\n\u001b[1;33m    expect:\u001b[0m\n\u001b[1;37m         ^\u001b[0m\n\u001b[1;31mSyntaxError\u001b[0m\u001b[1;31m:\u001b[0m invalid syntax\n"
     ]
    }
   ],
   "source": [
    "def Key_stats(gather = 'Profit Margin (ttm)'):\n",
    "    stock_files = path+ '\\\\'+ '_KeyStats'\n",
    "    stock_list = [x[0] for x in os.walk(stock_files)]\n",
    "    #print(stacks_list)\n",
    "    for each_dir in stock_list[1:]:\n",
    "        ticker = each_dir.split()\n",
    "        each_file = os.listdir(each_dir)\n",
    "        if len(each_file)>0:\n",
    "            for file in each_file:\n",
    "                date_stamp = datetime.strptime(file,'%Y%m%d%H%M%S.html')\n",
    "                unix_time = time.mktime(date_stamp.timetuple())\n",
    "                full_path_file = each_dir +'\\\\'+file\n",
    "                with open(full_path_file,'r') as f:\n",
    "                    source =f.read()\n",
    "                try:\n",
    "                    value = source.split(gather+':</td><td class=\"yfnc_tabledata1\">')[1].split('</td>')[0]\n",
    "                expect:\n",
    "                    pass\n",
    "                    print(e)\n",
    "                    value = 0"
   ]
  },
  {
   "cell_type": "code",
   "execution_count": 56,
   "metadata": {},
   "outputs": [
    {
     "name": "stdout",
     "output_type": "stream",
     "text": [
      "stack c:\\Users\\15764\\Downloads\\intraQuarter\\\\_KeyStats\\a// 20040130190102.html // -29.56%\n",
      "stack c:\\Users\\15764\\Downloads\\intraQuarter\\\\_KeyStats\\a// 20040413040711.html // -25.56%\n",
      "stack c:\\Users\\15764\\Downloads\\intraQuarter\\\\_KeyStats\\a// 20041213213734.html // 4.86%\n",
      "stack c:\\Users\\15764\\Downloads\\intraQuarter\\\\_KeyStats\\a// 20050122051719.html // 4.86%\n",
      "stack c:\\Users\\15764\\Downloads\\intraQuarter\\\\_KeyStats\\a// 20060109023516.html // 6.38%\n",
      "stack c:\\Users\\15764\\Downloads\\intraQuarter\\\\_KeyStats\\a// 20060621110116.html // 56.50%\n",
      "stack c:\\Users\\15764\\Downloads\\intraQuarter\\\\_KeyStats\\a// 20060819104201.html // 56.57%\n",
      "stack c:\\Users\\15764\\Downloads\\intraQuarter\\\\_KeyStats\\a// 20070220174656.html // 66.50%\n",
      "stack c:\\Users\\15764\\Downloads\\intraQuarter\\\\_KeyStats\\a// 20070412050751.html // 66.50%\n",
      "stack c:\\Users\\15764\\Downloads\\intraQuarter\\\\_KeyStats\\a// 20080123192850.html // 11.77%\n",
      "stack c:\\Users\\15764\\Downloads\\intraQuarter\\\\_KeyStats\\a// 20080214044434.html // 11.77%\n",
      "stack c:\\Users\\15764\\Downloads\\intraQuarter\\\\_KeyStats\\a// 20080426044923.html // 10.99%\n",
      "stack c:\\Users\\15764\\Downloads\\intraQuarter\\\\_KeyStats\\a// 20081206192133.html // 12.00%\n",
      "stack c:\\Users\\15764\\Downloads\\intraQuarter\\\\_KeyStats\\a// 20090802054624.html // 7.01%\n",
      "stack c:\\Users\\15764\\Downloads\\intraQuarter\\\\_KeyStats\\a// 20110802064537.html // 14.46%\n",
      "stack c:\\Users\\15764\\Downloads\\intraQuarter\\\\_KeyStats\\a// 20111108050416.html // 15.71%\n",
      "stack c:\\Users\\15764\\Downloads\\intraQuarter\\\\_KeyStats\\a// 20130514002858.html // 15.96%\n",
      "stack c:\\Users\\15764\\Downloads\\intraQuarter\\\\_KeyStats\\a// 20130906060952.html // 13.73%\n",
      "stack c:\\Users\\15764\\Downloads\\intraQuarter\\\\_KeyStats\\aa// 20040413042010.html // 6.40%\n",
      "stack c:\\Users\\15764\\Downloads\\intraQuarter\\\\_KeyStats\\aa// 20040909161545.html // 7.04%\n",
      "stack c:\\Users\\15764\\Downloads\\intraQuarter\\\\_KeyStats\\aa// 20041124103720.html // 7.01%\n",
      "stack c:\\Users\\15764\\Downloads\\intraQuarter\\\\_KeyStats\\aa// 20041205003642.html // 7.01%\n",
      "stack c:\\Users\\15764\\Downloads\\intraQuarter\\\\_KeyStats\\aa// 20050113071832.html // 7.02%\n",
      "stack c:\\Users\\15764\\Downloads\\intraQuarter\\\\_KeyStats\\aa// 20050207034837.html // 7.02%\n",
      "stack c:\\Users\\15764\\Downloads\\intraQuarter\\\\_KeyStats\\aa// 20050522084823.html // \n",
      "            N/A\n",
      "          \n",
      "stack c:\\Users\\15764\\Downloads\\intraQuarter\\\\_KeyStats\\aa// 20060620043221.html // 5.82%\n",
      "stack c:\\Users\\15764\\Downloads\\intraQuarter\\\\_KeyStats\\aa// 20070125190937.html // 7.40%\n",
      "stack c:\\Users\\15764\\Downloads\\intraQuarter\\\\_KeyStats\\aa// 20070223090342.html // 7.40%\n",
      "stack c:\\Users\\15764\\Downloads\\intraQuarter\\\\_KeyStats\\aa// 20070516211247.html // 7.40%\n",
      "stack c:\\Users\\15764\\Downloads\\intraQuarter\\\\_KeyStats\\aa// 20070622063912.html // 7.38%\n",
      "stack c:\\Users\\15764\\Downloads\\intraQuarter\\\\_KeyStats\\aa// 20071011205759.html // 7.23%\n",
      "stack c:\\Users\\15764\\Downloads\\intraQuarter\\\\_KeyStats\\aa// 20080123160553.html // 8.34%\n",
      "stack c:\\Users\\15764\\Downloads\\intraQuarter\\\\_KeyStats\\aa// 20081028005222.html // 5.91%\n",
      "stack c:\\Users\\15764\\Downloads\\intraQuarter\\\\_KeyStats\\aa// 20081205010315.html // 5.91%\n",
      "stack c:\\Users\\15764\\Downloads\\intraQuarter\\\\_KeyStats\\aa// 20081206093346.html // 5.91%\n",
      "stack c:\\Users\\15764\\Downloads\\intraQuarter\\\\_KeyStats\\aa// 20081218105407.html // 5.91%\n",
      "stack c:\\Users\\15764\\Downloads\\intraQuarter\\\\_KeyStats\\aa// 20090309181750.html // -0.28%\n",
      "stack c:\\Users\\15764\\Downloads\\intraQuarter\\\\_KeyStats\\aa// 20110903092123.html // 4.04%\n",
      "stack c:\\Users\\15764\\Downloads\\intraQuarter\\\\_KeyStats\\aa// 20111102220447.html // 4.31%\n",
      "stack c:\\Users\\15764\\Downloads\\intraQuarter\\\\_KeyStats\\aa// 20111105212924.html // 4.31%\n",
      "stack c:\\Users\\15764\\Downloads\\intraQuarter\\\\_KeyStats\\aa// 20120102194206.html // 4.31%\n",
      "stack c:\\Users\\15764\\Downloads\\intraQuarter\\\\_KeyStats\\aa// 20120309073406.html // 2.45%\n",
      "stack c:\\Users\\15764\\Downloads\\intraQuarter\\\\_KeyStats\\aa// 20120319022448.html // 2.45%\n",
      "stack c:\\Users\\15764\\Downloads\\intraQuarter\\\\_KeyStats\\aa// 20120519115152.html // 1.59%\n",
      "stack c:\\Users\\15764\\Downloads\\intraQuarter\\\\_KeyStats\\aa// 20120729165157.html // 0.30%\n",
      "stack c:\\Users\\15764\\Downloads\\intraQuarter\\\\_KeyStats\\aa// 20121127113814.html // -1.02%\n",
      "stack c:\\Users\\15764\\Downloads\\intraQuarter\\\\_KeyStats\\aa// 20130122175237.html // 0.81%\n",
      "stack c:\\Users\\15764\\Downloads\\intraQuarter\\\\_KeyStats\\aa// 20130423200257.html // 1.05%\n",
      "stack c:\\Users\\15764\\Downloads\\intraQuarter\\\\_KeyStats\\aa// 20130426205515.html // 1.05%\n",
      "stack c:\\Users\\15764\\Downloads\\intraQuarter\\\\_KeyStats\\aa// 20130901042511.html // 0.55%\n",
      "stack c:\\Users\\15764\\Downloads\\intraQuarter\\\\_KeyStats\\aapl// 20031207103610.html // 1.10%\n",
      "stack c:\\Users\\15764\\Downloads\\intraQuarter\\\\_KeyStats\\aapl// 20040203073334.html // 2.03%\n",
      "stack c:\\Users\\15764\\Downloads\\intraQuarter\\\\_KeyStats\\aapl// 20040603012038.html // 2.36%\n",
      "stack c:\\Users\\15764\\Downloads\\intraQuarter\\\\_KeyStats\\aapl// 20040810020244.html // 2.76%\n",
      "stack c:\\Users\\15764\\Downloads\\intraQuarter\\\\_KeyStats\\aapl// 20041012054057.html // 2.76%\n",
      "stack c:\\Users\\15764\\Downloads\\intraQuarter\\\\_KeyStats\\aapl// 20041204141651.html // 3.33%\n",
      "stack c:\\Users\\15764\\Downloads\\intraQuarter\\\\_KeyStats\\aapl// 20050126151647.html // 5.20%\n",
      "stack c:\\Users\\15764\\Downloads\\intraQuarter\\\\_KeyStats\\aapl// 20050204030708.html // 5.20%\n",
      "stack c:\\Users\\15764\\Downloads\\intraQuarter\\\\_KeyStats\\aapl// 20050301103603.html // 5.20%\n",
      "stack c:\\Users\\15764\\Downloads\\intraQuarter\\\\_KeyStats\\aapl// 20051217115553.html // 9.58%\n",
      "stack c:\\Users\\15764\\Downloads\\intraQuarter\\\\_KeyStats\\aapl// 20060125094352.html // 9.91%\n"
     ]
    },
    {
     "ename": "IndexError",
     "evalue": "list index out of range",
     "output_type": "error",
     "traceback": [
      "\u001b[1;31m---------------------------------------------------------------------------\u001b[0m",
      "\u001b[1;31mIndexError\u001b[0m                                Traceback (most recent call last)",
      "\u001b[1;32m<ipython-input-56-0340c2484e8a>\u001b[0m in \u001b[0;36m<module>\u001b[1;34m()\u001b[0m\n\u001b[1;32m----> 1\u001b[1;33m \u001b[0mKey_stats\u001b[0m\u001b[1;33m(\u001b[0m\u001b[1;33m)\u001b[0m\u001b[1;33m\u001b[0m\u001b[0m\n\u001b[0m",
      "\u001b[1;32m<ipython-input-47-e0a9606d376b>\u001b[0m in \u001b[0;36mKey_stats\u001b[1;34m(gather)\u001b[0m\n\u001b[0;32m     12\u001b[0m                 \u001b[1;32mwith\u001b[0m \u001b[0mopen\u001b[0m\u001b[1;33m(\u001b[0m\u001b[0mfull_path_file\u001b[0m\u001b[1;33m,\u001b[0m\u001b[1;34m'r'\u001b[0m\u001b[1;33m)\u001b[0m \u001b[1;32mas\u001b[0m \u001b[0mf\u001b[0m\u001b[1;33m:\u001b[0m\u001b[1;33m\u001b[0m\u001b[0m\n\u001b[0;32m     13\u001b[0m                     \u001b[0msource\u001b[0m \u001b[1;33m=\u001b[0m\u001b[0mf\u001b[0m\u001b[1;33m.\u001b[0m\u001b[0mread\u001b[0m\u001b[1;33m(\u001b[0m\u001b[1;33m)\u001b[0m\u001b[1;33m\u001b[0m\u001b[0m\n\u001b[1;32m---> 14\u001b[1;33m                 \u001b[0mvalue\u001b[0m \u001b[1;33m=\u001b[0m \u001b[0msource\u001b[0m\u001b[1;33m.\u001b[0m\u001b[0msplit\u001b[0m\u001b[1;33m(\u001b[0m\u001b[0mgather\u001b[0m\u001b[1;33m+\u001b[0m\u001b[1;34m':</td><td class=\"yfnc_tabledata1\">'\u001b[0m\u001b[1;33m)\u001b[0m\u001b[1;33m[\u001b[0m\u001b[1;36m1\u001b[0m\u001b[1;33m]\u001b[0m\u001b[1;33m.\u001b[0m\u001b[0msplit\u001b[0m\u001b[1;33m(\u001b[0m\u001b[1;34m'</td>'\u001b[0m\u001b[1;33m)\u001b[0m\u001b[1;33m[\u001b[0m\u001b[1;36m0\u001b[0m\u001b[1;33m]\u001b[0m\u001b[1;33m\u001b[0m\u001b[0m\n\u001b[0m\u001b[0;32m     15\u001b[0m                 \u001b[1;32mprint\u001b[0m\u001b[1;33m(\u001b[0m\u001b[1;34m'stack '\u001b[0m\u001b[1;33m+\u001b[0m\u001b[0meach_dir\u001b[0m\u001b[1;33m+\u001b[0m\u001b[1;34m'// '\u001b[0m\u001b[1;33m+\u001b[0m\u001b[0mfile\u001b[0m\u001b[1;33m+\u001b[0m\u001b[1;34m' // '\u001b[0m\u001b[1;33m+\u001b[0m\u001b[0mvalue\u001b[0m\u001b[1;33m)\u001b[0m\u001b[1;33m\u001b[0m\u001b[0m\n",
      "\u001b[1;31mIndexError\u001b[0m: list index out of range"
     ]
    }
   ],
   "source": [
    "Key_stats()"
   ]
  },
  {
   "cell_type": "code",
   "execution_count": null,
   "metadata": {
    "collapsed": true
   },
   "outputs": [],
   "source": []
  }
 ],
 "metadata": {
  "kernelspec": {
   "display_name": "Python 3",
   "language": "python",
   "name": "python3"
  },
  "language_info": {
   "codemirror_mode": {
    "name": "ipython",
    "version": 3
   },
   "file_extension": ".py",
   "mimetype": "text/x-python",
   "name": "python",
   "nbconvert_exporter": "python",
   "pygments_lexer": "ipython3",
   "version": "3.5.4"
  }
 },
 "nbformat": 4,
 "nbformat_minor": 2
}
