{
 "cells": [
  {
   "cell_type": "code",
   "execution_count": 1,
   "metadata": {},
   "outputs": [],
   "source": [
    "import pandas as pd\n",
    "import numpy as np\n",
    "\n",
    "filepath= './data/Energy Indicators.xls'\n",
    "\n",
    "#read file\n",
    "energy = pd.read_excel(filepath)\n",
    "\n",
    "#cleaning data\n",
    "energy = (energy[16:243]\n",
    "    .drop(energy.columns[[0, 1]], axis=1)\n",
    "    .rename(columns={'Environmental Indicators: Energy': 'Country',\n",
    "                     'Unnamed: 3':'Energy Supply',\n",
    "                     'Unnamed: 4' : 'Energy Supply per Capita',\n",
    "                     'Unnamed: 5':'% Renewable'})\n",
    "    .set_index('Country')\n",
    "          )\n"
   ]
  },
  {
   "cell_type": "code",
   "execution_count": 2,
   "metadata": {},
   "outputs": [],
   "source": [
    "#clean missing values\n",
    "energy.replace('...',np.nan,inplace =True)\n",
    "#change rows\n",
    "rows_to_Change = {\"Republic of Korea\": \"South Korea\",\n",
    "                  \"United States of America\": \"United States\",\n",
    "                  \"United Kingdom of Great Britain and Northern Ireland\": \"United Kingdom\",\n",
    "                  \"China, Hong Kong Special Administrative Region\": \"Hong Kong\"}\n",
    "#change rows\n",
    "energy['Energy Supply'] = energy['Energy Supply'] * 1000\n",
    "\n",
    "energy = energy.reset_index()\n",
    "energy.replace({\"Country\": rows_to_Change},inplace = True)\n",
    "energy['Country'] = (energy['Country'].apply(lambda x: x.split('(')[0].rstrip(' ').replace(r\"\\d+\",''))\n",
    "    .apply(lambda a: \"\".join([x for x in a if x.isalpha()]))\n",
    "                     )\n",
    "\n",
    "#reset index\n",
    "energy = energy.set_index('Country')"
   ]
  },
  {
   "cell_type": "code",
   "execution_count": 7,
   "metadata": {},
   "outputs": [
    {
     "name": "stdout",
     "output_type": "stream",
     "text": [
      "               Energy Supply  Energy Supply per Capita  % Renewable\n",
      "Country                                                            \n",
      "Afghanistan         321000.0                      10.0    78.669280\n",
      "Albania             102000.0                      35.0   100.000000\n",
      "Algeria            1959000.0                      51.0     0.551010\n",
      "AmericanSamoa            NaN                       NaN     0.641026\n",
      "Andorra               9000.0                     121.0    88.695650\n"
     ]
    }
   ],
   "source": [
    "#print head\n",
    "print(energy.head())\n",
    "#export to csc\n",
    "energy.to_csv('./data/exti.csv')"
   ]
  },
  {
   "cell_type": "code",
   "execution_count": 5,
   "metadata": {},
   "outputs": [],
   "source": [
    "def answer_one():\n",
    "    return \"ANSWER\""
   ]
  },
  {
   "cell_type": "code",
   "execution_count": null,
   "metadata": {},
   "outputs": [],
   "source": []
  }
 ],
 "metadata": {
  "kernelspec": {
   "display_name": "Python 3",
   "language": "python",
   "name": "python3"
  },
  "language_info": {
   "codemirror_mode": {
    "name": "ipython",
    "version": 3
   },
   "file_extension": ".py",
   "mimetype": "text/x-python",
   "name": "python",
   "nbconvert_exporter": "python",
   "pygments_lexer": "ipython3",
   "version": "3.6.2"
  }
 },
 "nbformat": 4,
 "nbformat_minor": 1
}
